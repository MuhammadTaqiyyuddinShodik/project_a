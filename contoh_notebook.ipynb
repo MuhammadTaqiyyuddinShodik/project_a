{
 "cells": [
  {
   "cell_type": "code",
   "execution_count": null,
   "metadata": {},
   "outputs": [],
   "source": [
    "# camel case \n",
    "namaLengkap = 'Bambang Pamungkas'\n",
    "# Pascal case \n",
    "NamaLengkap = 'Bambang Pamungkas'\n",
    "# pisahkan dengan_\n",
    "nama_lengkap = 'Bambang Pamungkas'\n"
   ]
  }
 ],
 "metadata": {
  "language_info": {
   "name": "python"
  }
 },
 "nbformat": 4,
 "nbformat_minor": 2
}
